{
 "cells": [
  {
   "cell_type": "code",
   "execution_count": 30,
   "id": "38612ae2",
   "metadata": {},
   "outputs": [
    {
     "name": "stdout",
     "output_type": "stream",
     "text": [
      "Defaulting to user installation because normal site-packages is not writeableNote: you may need to restart the kernel to use updated packages.\n",
      "Requirement already satisfied: tabulate in c:\\programdata\\anaconda3\\lib\\site-packages (0.8.9)\n",
      "\n"
     ]
    }
   ],
   "source": [
    "pip install tabulate"
   ]
  },
  {
   "cell_type": "code",
   "execution_count": 35,
   "id": "bf05c998",
   "metadata": {},
   "outputs": [
    {
     "name": "stdout",
     "output_type": "stream",
     "text": [
      "╒══════════════════════════════════════════════════════╕\n",
      "│ kelebihan oop dibandingkan functional                │\n",
      "╞══════════════════════════════════════════════════════╡\n",
      "│ dapat mengatasi masalah kompleks dengan mudah        │\n",
      "├──────────────────────────────────────────────────────┤\n",
      "│ mampu mengelola data dan perilaku object dengan baik │\n",
      "├──────────────────────────────────────────────────────┤\n",
      "│ lebih mudah di pahami bagi programmer pemula         │\n",
      "╘══════════════════════════════════════════════════════╛\n"
     ]
    }
   ],
   "source": [
    "from tabulate import tabulate\n",
    "\n",
    "kelebihan = [\n",
    "    ['kelebihan oop dibandingkan functional'],\n",
    "    ['dapat mengatasi masalah kompleks dengan mudah'],\n",
    "    ['mampu mengelola data dan perilaku object dengan baik'],\n",
    "    ['lebih mudah di pahami bagi programmer pemula']\n",
    "]\n",
    "\n",
    "print(tabulate(kelebihan, headers='firstrow', tablefmt='fancy_grid'))"
   ]
  },
  {
   "cell_type": "code",
   "execution_count": 36,
   "id": "0c976dfb",
   "metadata": {},
   "outputs": [
    {
     "name": "stdout",
     "output_type": "stream",
     "text": [
      "╒═══════════════════════════════════════════════════════════════╕\n",
      "│ kekurangan oop dibandingkan dengan functional                 │\n",
      "╞═══════════════════════════════════════════════════════════════╡\n",
      "│ dapat menjadi sulit untuk memahami kode program yang kompleks │\n",
      "├───────────────────────────────────────────────────────────────┤\n",
      "│ pemeliharaan kode yang sulit                                  │\n",
      "├───────────────────────────────────────────────────────────────┤\n",
      "│ terkadang membuat program terlalu kompleks                    │\n",
      "╘═══════════════════════════════════════════════════════════════╛\n"
     ]
    }
   ],
   "source": [
    "kekurangan = [\n",
    "    ['kekurangan oop dibandingkan dengan functional'],\n",
    "    ['dapat menjadi sulit untuk memahami kode program yang kompleks'],\n",
    "    ['pemeliharaan kode yang sulit'],\n",
    "    ['terkadang membuat program terlalu kompleks']\n",
    "]\n",
    "\n",
    "print(tabulate(kekurangan, headers='firstrow', tablefmt='fancy_grid'))"
   ]
  },
  {
   "cell_type": "code",
   "execution_count": 37,
   "id": "ed78b243",
   "metadata": {},
   "outputs": [
    {
     "name": "stdout",
     "output_type": "stream",
     "text": [
      "╒══════════════════════════════════════════════════════════════════════╕\n",
      "│ kelebihan paradigma procedural dibandingkan dengan object oriented   │\n",
      "╞══════════════════════════════════════════════════════════════════════╡\n",
      "│ lebih sederhana dan mudah dipahami                                   │\n",
      "├──────────────────────────────────────────────────────────────────────┤\n",
      "│ lebih fleksibel dalam mengatasi masalah-masalah yang spesifik        │\n",
      "├──────────────────────────────────────────────────────────────────────┤\n",
      "│ lebih baik untuk mengatasi masalah-masalah numerik                   │\n",
      "╘══════════════════════════════════════════════════════════════════════╛\n",
      "╒═══════════════════════════════════════════════════════════════════════╕\n",
      "│ kekurangan paradigma procedural dibandingkan dengan object oriented   │\n",
      "╞═══════════════════════════════════════════════════════════════════════╡\n",
      "│ kurang efisien dalam mengelola data dan perilaku object               │\n",
      "├───────────────────────────────────────────────────────────────────────┤\n",
      "│ kurang baik dalam memodelkan dunia nyata                              │\n",
      "├───────────────────────────────────────────────────────────────────────┤\n",
      "│ kurang baik dalam mengatasi masalah-masalah yang kompleks             │\n",
      "╘═══════════════════════════════════════════════════════════════════════╛\n"
     ]
    }
   ],
   "source": [
    "kelebihan_1 = [\n",
    "    ['kelebihan paradigma procedural dibandingkan dengan object oriented'],\n",
    "    ['lebih sederhana dan mudah dipahami'],\n",
    "    ['lebih fleksibel dalam mengatasi masalah-masalah yang spesifik'],\n",
    "    ['lebih baik untuk mengatasi masalah-masalah numerik']\n",
    "]\n",
    "\n",
    "print(tabulate(kelebihan_1, headers='firstrow', tablefmt='fancy_grid'))\n",
    "\n",
    "kekurangan_1 = [\n",
    "    ['kekurangan paradigma procedural dibandingkan dengan object oriented'],\n",
    "    ['kurang efisien dalam mengelola data dan perilaku object'],\n",
    "    ['kurang baik dalam memodelkan dunia nyata'],\n",
    "    ['kurang baik dalam mengatasi masalah-masalah yang kompleks']\n",
    "]\n",
    "\n",
    "print(tabulate(kekurangan_1, headers='firstrow', tablefmt='fancy_grid'))"
   ]
  },
  {
   "cell_type": "code",
   "execution_count": 38,
   "id": "21303746",
   "metadata": {},
   "outputs": [
    {
     "name": "stdout",
     "output_type": "stream",
     "text": [
      "╒══════════════════════════════════════════════════════════════════════════════════════╕\n",
      "│ kelebihan paradigma procedural dibandingkan dengan functional                        │\n",
      "╞══════════════════════════════════════════════════════════════════════════════════════╡\n",
      "│ lebih mudah dipahami dan diterapkan                                                  │\n",
      "├──────────────────────────────────────────────────────────────────────────────────────┤\n",
      "│ menyediakan kendali yang lebih baik terhadap alur program                            │\n",
      "├──────────────────────────────────────────────────────────────────────────────────────┤\n",
      "│ lebih cocok dalam memecahkan masalah yang memerlukan logika dan algoritma yang rumit │\n",
      "╘══════════════════════════════════════════════════════════════════════════════════════╛\n",
      "╒════════════════════════════════════════════════════════════════════╕\n",
      "│ kekurangan paradigma procedural dibandingkan dengan functional     │\n",
      "╞════════════════════════════════════════════════════════════════════╡\n",
      "│ sulit dalam memodelkan solusi masalah secara abstrak               │\n",
      "├────────────────────────────────────────────────────────────────────┤\n",
      "│ lebih sulit untuk memastikan bahwa kode berjalan dengan benar      │\n",
      "├────────────────────────────────────────────────────────────────────┤\n",
      "│ lebih sulit untuk membaca dan memahami kode yang panjang dan rumit │\n",
      "╘════════════════════════════════════════════════════════════════════╛\n"
     ]
    }
   ],
   "source": [
    "kelebihan_2 = [\n",
    "    ['kelebihan paradigma procedural dibandingkan dengan functional'],\n",
    "    ['lebih mudah dipahami dan diterapkan'],\n",
    "    ['menyediakan kendali yang lebih baik terhadap alur program'],\n",
    "    ['lebih cocok dalam memecahkan masalah yang memerlukan logika dan algoritma yang rumit']\n",
    "]\n",
    "\n",
    "print(tabulate(kelebihan_2, headers='firstrow', tablefmt='fancy_grid'))\n",
    "\n",
    "kekurangan_2 = [\n",
    "    ['kekurangan paradigma procedural dibandingkan dengan functional'],\n",
    "    ['sulit dalam memodelkan solusi masalah secara abstrak'],\n",
    "    ['lebih sulit untuk memastikan bahwa kode berjalan dengan benar'],\n",
    "    ['lebih sulit untuk membaca dan memahami kode yang panjang dan rumit']\n",
    "]\n",
    "\n",
    "print(tabulate(kekurangan_2, headers='firstrow', tablefmt='fancy_grid'))"
   ]
  },
  {
   "cell_type": "code",
   "execution_count": 39,
   "id": "67368a24",
   "metadata": {},
   "outputs": [
    {
     "name": "stdout",
     "output_type": "stream",
     "text": [
      "pure functional programming language adalah bahasa pemrograman yang membatasi mutable state dan effect samping dan menekankan pada operasi yang bersifat deterministik dan didefinisikan secara eksplisit melalui fungsi-fungsi matematis\n"
     ]
    }
   ],
   "source": [
    "print('pure functional programming language adalah bahasa pemrograman yang membatasi mutable state dan effect samping dan menekankan pada operasi yang bersifat deterministik dan didefinisikan secara eksplisit melalui fungsi-fungsi matematis')"
   ]
  },
  {
   "cell_type": "code",
   "execution_count": 41,
   "id": "7a07d1be",
   "metadata": {},
   "outputs": [
    {
     "name": "stdout",
     "output_type": "stream",
     "text": [
      "bahasa pemrograman yang termasuk pure functional programming adalah scala dan standard ml\n"
     ]
    }
   ],
   "source": [
    "print('bahasa pemrograman yang termasuk pure functional programming adalah scala dan standard ml')"
   ]
  },
  {
   "cell_type": "code",
   "execution_count": 42,
   "id": "41f8a7dd",
   "metadata": {},
   "outputs": [
    {
     "name": "stdout",
     "output_type": "stream",
     "text": [
      "Enter password (max 100 characters): hello world\n",
      "Encrypted password: TP+Sg-TT-TT-TW-QV-T_-TW-TZ-TT-Sf-\n"
     ]
    }
   ],
   "source": [
    "def encrypt_password(password: str) -> str:\n",
    "    encrypted_password = ''\n",
    "    for char in password:\n",
    "        ascii_val = ord(char)\n",
    "        val1 = int((ascii_val / 26) + 80)\n",
    "        val2 = (ascii_val % 26) + 80\n",
    "        val3 = '+' if val1 > val2 else '-'\n",
    "        encrypted_password += chr(val1) + chr(val2) + val3\n",
    "    return encrypted_password\n",
    "\n",
    "password = input(\"Enter password (max 100 characters): \")\n",
    "encrypted_password = encrypt_password(password)\n",
    "print(\"Encrypted password:\", encrypted_password)\n"
   ]
  }
 ],
 "metadata": {
  "kernelspec": {
   "display_name": "Python 3 (ipykernel)",
   "language": "python",
   "name": "python3"
  },
  "language_info": {
   "codemirror_mode": {
    "name": "ipython",
    "version": 3
   },
   "file_extension": ".py",
   "mimetype": "text/x-python",
   "name": "python",
   "nbconvert_exporter": "python",
   "pygments_lexer": "ipython3",
   "version": "3.9.12"
  }
 },
 "nbformat": 4,
 "nbformat_minor": 5
}
